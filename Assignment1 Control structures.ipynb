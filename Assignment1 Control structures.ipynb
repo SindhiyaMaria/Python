{
 "cells": [
  {
   "cell_type": "code",
   "execution_count": 1,
   "id": "613e2475",
   "metadata": {},
   "outputs": [
    {
     "name": "stdout",
     "output_type": "stream",
     "text": [
      "Welcome to Assignment-1\n"
     ]
    }
   ],
   "source": [
    "print(\"Welcome to Assignment-1\")"
   ]
  },
  {
   "cell_type": "code",
   "execution_count": 20,
   "id": "60fa1fa0",
   "metadata": {},
   "outputs": [
    {
     "name": "stdout",
     "output_type": "stream",
     "text": [
      "Num1= 10\n",
      "Num2= 30\n",
      "Add = 40\n"
     ]
    }
   ],
   "source": [
    "Num1=10\n",
    "Num2=30\n",
    "Add=Num1+Num2\n",
    "print(\"Num1=\",Num1)\n",
    "print(\"Num2=\",Num2)\n",
    "print(\"Add =\",Num1+Num2)  "
   ]
  },
  {
   "cell_type": "code",
   "execution_count": 45,
   "id": "f0d0facc",
   "metadata": {},
   "outputs": [
    {
     "name": "stdout",
     "output_type": "stream",
     "text": [
      "Enter the BMI Index:34\n",
      "Very OverWeight\n"
     ]
    }
   ],
   "source": [
    "#Body Mass Index\n",
    "num=float(input(\"Enter the BMI Index:\"))\n",
    "if(num<18.5):\n",
    "    print(\"UnderWeight\")\n",
    "elif((num>=18.5)&(num<=22.9)):\n",
    "    print(\"NormalWeight\")\n",
    "elif((num>=22.9)&(num<=29.9)):\n",
    "    print(\"Overweight\")\n",
    "elif(num>30):\n",
    "    print(\"Very OverWeight\")\n",
    "else:\n",
    "    print(\"Obese\")\n",
    "    \n"
   ]
  },
  {
   "cell_type": "code",
   "execution_count": null,
   "id": "35cb95e1",
   "metadata": {},
   "outputs": [],
   "source": []
  },
  {
   "cell_type": "code",
   "execution_count": null,
   "id": "f1a5a49b",
   "metadata": {},
   "outputs": [],
   "source": []
  }
 ],
 "metadata": {
  "kernelspec": {
   "display_name": "Python 3 (ipykernel)",
   "language": "python",
   "name": "python3"
  },
  "language_info": {
   "codemirror_mode": {
    "name": "ipython",
    "version": 3
   },
   "file_extension": ".py",
   "mimetype": "text/x-python",
   "name": "python",
   "nbconvert_exporter": "python",
   "pygments_lexer": "ipython3",
   "version": "3.9.7"
  }
 },
 "nbformat": 4,
 "nbformat_minor": 5
}
