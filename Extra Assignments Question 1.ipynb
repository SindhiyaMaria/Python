{
 "cells": [
  {
   "cell_type": "code",
   "execution_count": 3,
   "id": "9b3b52e3",
   "metadata": {},
   "outputs": [
    {
     "name": "stdout",
     "output_type": "stream",
     "text": [
      "HOPE AI\n"
     ]
    }
   ],
   "source": [
    "# print statements\n",
    "print(\"HOPE AI\")"
   ]
  },
  {
   "cell_type": "code",
   "execution_count": 25,
   "id": "0f145a47",
   "metadata": {},
   "outputs": [
    {
     "name": "stdout",
     "output_type": "stream",
     "text": [
      "Enter your institute name?: HOPE AI\n"
     ]
    }
   ],
   "source": [
    "# buy input\n",
    "Institute=str(input(\"Enter your institute name?: \"))"
   ]
  },
  {
   "cell_type": "code",
   "execution_count": 7,
   "id": "ab179204",
   "metadata": {},
   "outputs": [
    {
     "name": "stdout",
     "output_type": "stream",
     "text": [
      "Enter your name:Raj\n",
      "Enter your age:15\n",
      "Enter your school name:Guru School\n",
      "Enter your degree:B.E CSE\n"
     ]
    }
   ],
   "source": [
    "#Buy inputs\n",
    "Name=str(input(\"Enter your name:\"))\n",
    "Age= str(input(\"Enter your age:\"))\n",
    "SchoolName=str(input(\"Enter your school name:\"))\n",
    "Degree=str(input(\"Enter your degree:\"))"
   ]
  },
  {
   "cell_type": "code",
   "execution_count": 11,
   "id": "ec59f599",
   "metadata": {},
   "outputs": [
    {
     "name": "stdout",
     "output_type": "stream",
     "text": [
      "a = 43\n",
      "b = 34\n",
      "add = 77\n"
     ]
    }
   ],
   "source": [
    "#Addition\n",
    "a=int(input(\"a = \"))\n",
    "b=int(input(\"b = \"))\n",
    "add=a+b\n",
    "print(\"add =\",add)"
   ]
  },
  {
   "cell_type": "code",
   "execution_count": null,
   "id": "6bb18cf6",
   "metadata": {},
   "outputs": [],
   "source": [
    "a= 43\n",
    "b= 34\n",
    "add = 77"
   ]
  },
  {
   "cell_type": "code",
   "execution_count": 12,
   "id": "ba693c4b",
   "metadata": {},
   "outputs": [
    {
     "name": "stdout",
     "output_type": "stream",
     "text": [
      "a = 43\n",
      "b = 34\n",
      "sub = 9\n"
     ]
    }
   ],
   "source": [
    "#Subtraction\n",
    "a=int(input(\"a = \"))\n",
    "b=int(input(\"b = \"))\n",
    "sub=a-b\n",
    "print(\"sub =\",sub)"
   ]
  },
  {
   "cell_type": "code",
   "execution_count": 13,
   "id": "e5b1a6d6",
   "metadata": {},
   "outputs": [
    {
     "name": "stdout",
     "output_type": "stream",
     "text": [
      "a = 63\n",
      "b = 97\n",
      "mul = 6111\n"
     ]
    }
   ],
   "source": [
    "#Multiplication\n",
    "a=int(input(\"a = \"))\n",
    "b=int(input(\"b = \"))\n",
    "mul=a*b\n",
    "print(\"mul =\",mul)\n"
   ]
  },
  {
   "cell_type": "code",
   "execution_count": 18,
   "id": "3695d059",
   "metadata": {},
   "outputs": [
    {
     "name": "stdout",
     "output_type": "stream",
     "text": [
      "a = 76\n",
      "b = 31\n",
      "Float Div = 2.4516129032258065\n"
     ]
    }
   ],
   "source": [
    "#Division\n",
    "a=int(input(\"a = \"))\n",
    "b=int(input(\"b = \"))\n",
    "FloatDiv =a/b\n",
    "print(\"Float Div =\",FloatDiv)\n",
    "\n"
   ]
  },
  {
   "cell_type": "code",
   "execution_count": 19,
   "id": "0cb227ca",
   "metadata": {},
   "outputs": [
    {
     "name": "stdout",
     "output_type": "stream",
     "text": [
      "a = 76\n",
      "b = 31\n",
      "Float Div = 2\n"
     ]
    }
   ],
   "source": [
    "#Floor division\n",
    "a=int(input(\"a = \"))\n",
    "b=int(input(\"b = \"))\n",
    "FloatDiv =a//b\n",
    "print(\"Float Div =\",FloatDiv)\n",
    "\n"
   ]
  },
  {
   "cell_type": "code",
   "execution_count": 21,
   "id": "36e23f60",
   "metadata": {},
   "outputs": [
    {
     "name": "stdout",
     "output_type": "stream",
     "text": [
      "a = 76\n",
      "b = 31\n",
      "Modulo = 14\n"
     ]
    }
   ],
   "source": [
    "# Modulo\n",
    "a=int(input(\"a = \"))\n",
    "b=int(input(\"b = \"))\n",
    "Modulo =a % b\n",
    "print(\"Modulo =\",Modulo)\n",
    "\n"
   ]
  },
  {
   "cell_type": "code",
   "execution_count": 24,
   "id": "05f4880a",
   "metadata": {},
   "outputs": [
    {
     "name": "stdout",
     "output_type": "stream",
     "text": [
      "a = 4\n",
      "b = 4\n",
      "Power = 256\n"
     ]
    }
   ],
   "source": [
    "# Powers\n",
    "a=int(input(\"a = \"))\n",
    "b=int(input(\"b = \"))\n",
    "Power =a**b\n",
    "print(\"Power =\",Power)\n"
   ]
  },
  {
   "cell_type": "code",
   "execution_count": null,
   "id": "bd0c9b5a",
   "metadata": {},
   "outputs": [],
   "source": []
  }
 ],
 "metadata": {
  "kernelspec": {
   "display_name": "Python 3 (ipykernel)",
   "language": "python",
   "name": "python3"
  },
  "language_info": {
   "codemirror_mode": {
    "name": "ipython",
    "version": 3
   },
   "file_extension": ".py",
   "mimetype": "text/x-python",
   "name": "python",
   "nbconvert_exporter": "python",
   "pygments_lexer": "ipython3",
   "version": "3.9.7"
  }
 },
 "nbformat": 4,
 "nbformat_minor": 5
}
